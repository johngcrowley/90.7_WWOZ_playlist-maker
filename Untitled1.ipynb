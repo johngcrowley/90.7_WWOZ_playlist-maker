{
 "cells": [
  {
   "cell_type": "code",
   "execution_count": 1,
   "id": "1bd41492",
   "metadata": {},
   "outputs": [],
   "source": [
    "import pandas as pd\n",
    "from selenium import webdriver\n",
    "from bs4 import BeautifulSoup\n",
    "import sqlite3\n",
    "import numpy as np\n",
    "import time"
   ]
  },
  {
   "cell_type": "code",
   "execution_count": 2,
   "id": "2bcf6c6b",
   "metadata": {},
   "outputs": [],
   "source": [
    "url = 'https://www.wwoz.org/programs/playlists'\n",
    "\n",
    "#create new chrome session\n",
    "driver = webdriver.Chrome()\n",
    "\n",
    "#load the web page\n",
    "driver.get(url)\n",
    "\n",
    "#wait for the page to fully load\n",
    "driver.implicitly_wait(5)\n",
    "\n",
    "time.sleep(5)\n",
    "soup = BeautifulSoup(driver.page_source,'html')\n",
    "\n",
    "tables = soup.find_all('table')\n"
   ]
  },
  {
   "cell_type": "code",
   "execution_count": 3,
   "id": "a436de2d",
   "metadata": {},
   "outputs": [],
   "source": []
  },
  {
   "cell_type": "code",
   "execution_count": 4,
   "id": "a5c63141",
   "metadata": {},
   "outputs": [],
   "source": []
  },
  {
   "cell_type": "code",
   "execution_count": 5,
   "id": "bf53863d",
   "metadata": {},
   "outputs": [],
   "source": []
  },
  {
   "cell_type": "code",
   "execution_count": 6,
   "id": "cab8f1fe",
   "metadata": {},
   "outputs": [],
   "source": []
  },
  {
   "cell_type": "code",
   "execution_count": 22,
   "id": "71e697ef",
   "metadata": {},
   "outputs": [],
   "source": [
    "\n",
    "for table in tables:\n",
    "    rows = table.find_all('tr')\n",
    "    header = [th.text for th in rows[0].find_all('th')]\n",
    "\n",
    "#     for row in rows[1:]:\n",
    "\n",
    "    cols = soup.find_all('td')\n",
    "\n",
    "    artists = [col.text for col in cols if col.attrs['data-bind'] == 'artist']\n",
    "    albums = [col.text for col in cols if col.attrs['data-bind'] == 'album']\n",
    "    songs = [col.text for col in cols if col.attrs['data-bind'] == 'title']\n",
    "\n",
    "    track_dict = {'Artist':artists,'Album':albums,'Title':songs}"
   ]
  },
  {
   "cell_type": "code",
   "execution_count": 23,
   "id": "f459fb02",
   "metadata": {},
   "outputs": [],
   "source": [
    "df = pd.DataFrame(track_dict)"
   ]
  },
  {
   "cell_type": "code",
   "execution_count": null,
   "id": "b81d532d",
   "metadata": {},
   "outputs": [],
   "source": [
    "df"
   ]
  },
  {
   "cell_type": "code",
   "execution_count": 17,
   "id": "a66a2ba7",
   "metadata": {},
   "outputs": [
    {
     "data": {
      "text/plain": [
       "99"
      ]
     },
     "execution_count": 17,
     "metadata": {},
     "output_type": "execute_result"
    }
   ],
   "source": [
    "len(songs)\n"
   ]
  },
  {
   "cell_type": "code",
   "execution_count": 3,
   "id": "5c3cd7c3",
   "metadata": {
    "scrolled": true
   },
   "outputs": [],
   "source": [
    "from spotify import access_token"
   ]
  },
  {
   "cell_type": "code",
   "execution_count": 4,
   "id": "9932c580",
   "metadata": {},
   "outputs": [
    {
     "data": {
      "text/plain": [
       "'BQCZiUJ6UllZ6Z9DLazuPYN-DHP3RwMNZ_nN9yq-hbXQeoB74zwbYAecMzdIF3aoZQlLn2N1sgFCBrIs1FIh5mDAbViMWj8k0Tw9ARD2DaFbTdzadj3Sj-NR4TlXbMUcLSEwr92zgE9sApSQ4I1DlCI'"
      ]
     },
     "execution_count": 4,
     "metadata": {},
     "output_type": "execute_result"
    }
   ],
   "source": [
    "access_token"
   ]
  },
  {
   "cell_type": "code",
   "execution_count": null,
   "id": "c6269aec",
   "metadata": {},
   "outputs": [],
   "source": []
  }
 ],
 "metadata": {
  "kernelspec": {
   "display_name": "Python 3",
   "language": "python",
   "name": "python3"
  },
  "language_info": {
   "codemirror_mode": {
    "name": "ipython",
    "version": 3
   },
   "file_extension": ".py",
   "mimetype": "text/x-python",
   "name": "python",
   "nbconvert_exporter": "python",
   "pygments_lexer": "ipython3",
   "version": "3.9.2"
  }
 },
 "nbformat": 4,
 "nbformat_minor": 5
}
