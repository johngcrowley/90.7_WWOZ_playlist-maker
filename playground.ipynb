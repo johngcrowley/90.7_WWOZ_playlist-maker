{
 "cells": [
  {
   "cell_type": "code",
   "execution_count": 1,
   "id": "42dfbcf0",
   "metadata": {},
   "outputs": [
    {
     "name": "stdout",
     "output_type": "stream",
     "text": [
      "you did it, your first class!\n"
     ]
    }
   ],
   "source": [
    "from spotify import access_token,user_id, db\n",
    "from spotify import df as dataframe"
   ]
  },
  {
   "cell_type": "code",
   "execution_count": 2,
   "id": "b0fe8b85",
   "metadata": {},
   "outputs": [
    {
     "name": "stderr",
     "output_type": "stream",
     "text": [
      "<ipython-input-2-b4ff42ee3cb6>:17: FutureWarning: The default value of regex will change from True to False in a future version.\n",
      "  df['Title'] = df['Title'].str.replace(r\"\\*+\",'')\n",
      "<ipython-input-2-b4ff42ee3cb6>:19: FutureWarning: The default value of regex will change from True to False in a future version.\n",
      "  df['Artist'] = df['Artist'].str.replace(r\"\\(.*\\)\",'')\n"
     ]
    },
    {
     "name": "stdout",
     "output_type": "stream",
     "text": [
      "Missing 36 Spotify matches\n",
      "WOOOO!!!\n"
     ]
    },
    {
     "ename": "NameError",
     "evalue": "name 'add_tracks_to_db' is not defined",
     "output_type": "error",
     "traceback": [
      "\u001b[0;31m---------------------------------------------------------------------------\u001b[0m",
      "\u001b[0;31mNameError\u001b[0m                                 Traceback (most recent call last)",
      "\u001b[0;32m<ipython-input-2-b4ff42ee3cb6>\u001b[0m in \u001b[0;36m<module>\u001b[0;34m\u001b[0m\n\u001b[1;32m    104\u001b[0m \u001b[0madd_tracks_to_spotify\u001b[0m\u001b[0;34m(\u001b[0m\u001b[0;34m)\u001b[0m\u001b[0;34m\u001b[0m\u001b[0;34m\u001b[0m\u001b[0m\n\u001b[1;32m    105\u001b[0m \u001b[0;34m\u001b[0m\u001b[0m\n\u001b[0;32m--> 106\u001b[0;31m \u001b[0madd_tracks_to_db\u001b[0m\u001b[0;34m(\u001b[0m\u001b[0;34m)\u001b[0m\u001b[0;34m\u001b[0m\u001b[0;34m\u001b[0m\u001b[0m\n\u001b[0m",
      "\u001b[0;31mNameError\u001b[0m: name 'add_tracks_to_db' is not defined"
     ]
    }
   ],
   "source": [
    "import json\n",
    "import urllib\n",
    "import requests\n",
    "import re\n",
    "import pandas as pd\n",
    "import datetime as dt\n",
    "\n",
    "user_id = user_id\n",
    "dataframe = dataframe\n",
    "access_token = access_token\n",
    "headers = {'Content-Type':'application/json','Authorization': 'Bearer {token}'.format(token=access_token)}\n",
    "BASE_URL = 'https://api.spotify.com/v1/'\n",
    "\n",
    "\n",
    "        \n",
    "def scrape_top_100():\n",
    "    #create new chrome session\n",
    "    driver = webdriver.Chrome()\n",
    "    #load the web page\n",
    "    driver.get(url)\n",
    "    #wait for the page to fully load\n",
    "    driver.implicitly_wait(5)\n",
    "    time.sleep(5)\n",
    "    soup = BeautifulSoup(driver.page_source,'html.parser')\n",
    "    cols = soup.find_all('td')\n",
    "    return cols\n",
    "\n",
    "def df_prep():\n",
    "    artists = [col.text for col in cols if col.attrs['data-bind'] == 'artist']\n",
    "    albums = [col.text for col in cols if col.attrs['data-bind'] == 'album']\n",
    "    songs = [col.text for col in cols if col.attrs['data-bind'] == 'title']\n",
    "    \n",
    "    track_dict = {'Artist':artists,'Album':albums,'Title':songs}\n",
    "    df = pd.DataFrame(track_dict)\n",
    "    replace_dict = {'featuring':'','ft.':'','ft':'','feat':'','feat.':'','&':''}\n",
    "    df['Title'] = df['Title'].str.replace(r\"\\*+\",'')\n",
    "    df['Artist'] = df['Artist'].replace(replace_dict,regex=True)\n",
    "    df['Artist'] = df['Artist'].str.replace(r\"\\(.*\\)\",'')\n",
    "    df = df.reset_index()\n",
    "    \n",
    "    track_n_artist = df['Title'].str.lower()+ ' ' + df['Artist'].str.lower()\n",
    "    track_n_artist = track_n_artist.str.replace(' ','+')\n",
    "    return track_n_artist\n",
    "\n",
    "\n",
    "def api(series):\n",
    "    correct = []\n",
    "    for i,s in enumerate(series):\n",
    "        queryParams = f'?q={s}&type=track'\n",
    "        r = requests.get('https://api.spotify.com/v1/search' + queryParams, headers=headers)\n",
    "        res = r.json()\n",
    "        for y in res['tracks']['items']:\n",
    "            if y['artists'][0]['name'].lower()[:5] in df['Artist'].iloc[i].lower():\n",
    "                if y['name'].lower()[:4] == df['Title'].iloc[i][:4].lower():\n",
    "                    correct.append((i,y['name'],y['artists'][0]['name'],y['id']))\n",
    "    return correct\n",
    "            \n",
    "def uri_matches(correct):\n",
    "    df2 = pd.DataFrame(correct)\n",
    "    df2 = df2.rename(columns={0:'index',1:'track',2:'artist',3:'uri'})\n",
    "    df2 = df2.drop_duplicates(subset='index',keep='first')\n",
    "    df2.set_index('index')\n",
    "    df2 = df2.reset_index()\n",
    "    return df2\n",
    "\n",
    "def measure(df,df2):\n",
    "    df_outer = pd.merge(df,df2,how='outer',on='index')\n",
    "    df_inner = pd.merge(df,df2,how='inner',on='index')\n",
    "    missing = (len(df_outer) - len(df_inner)) / len(df)\n",
    "    miss_df = df.drop(df_inner.index,axis=0)\n",
    "    return print(f'Missing {round(missing*100)} Spotify matches'),miss_df\n",
    "\n",
    "def playlist_name():\n",
    "    today = dt.datetime.today()\n",
    "    date = today.strftime('%m-%d-%Y')\n",
    "    weekday = today.strftime('%A')\n",
    "    name = f'WWOZ {weekday} {date}'\n",
    "    return name\n",
    "\n",
    "def create_playlist():\n",
    "    url = BASE_URL + 'users/' + user_id + '/playlists'\n",
    "    reqbody = json.dumps({'name': playlist_name(),\n",
    "               'description':'Playlist of WWOZ radio plays scraped from 100 most recent songs',\n",
    "              'public': 'true'})\n",
    "    r = requests.post(url = url, data = reqbody, headers=headers)\n",
    "    db.InsertPlaylist(playlist_name())\n",
    "    return r.json()['id']\n",
    "\n",
    "def check_redundancies():\n",
    "    uris = [x[0] for x in db.GetUris()]\n",
    "    new = df2['uri'].tolist()\n",
    "    good_to_go = [uri for uri in new if uri not in uris]\n",
    "    return good_to_go\n",
    "\n",
    "def add_tracks_to_spotify(spotify_playlist_id):\n",
    "    uri_list = list(map(lambda uri: 'spotify:track:'+ uri, check_redundancies()))\n",
    "    reqbody = json.dumps({'uris': uri_list })\n",
    "    r = requests.post(f'https://api.spotify.com/v1/users/{user_id}/playlists/{spotify_playlst_id}/tracks', \n",
    "            data=reqbody,headers=headers)\n",
    "    if r.status_code in [200, 201]:\n",
    "        print('WOOOO!!!')\n",
    "    try:\n",
    "        # use check_redundancies() to mask df2 (our matched tracks w/ URIs) for SQL Insert\n",
    "        playlist_id = db.GetPlaylistid()\n",
    "        df3 = df2.loc[df2['uri'].isin(check_redundancies())] \n",
    "        df3.apply(lambda x: db.InsertTrack(x['artist'],x['track'],x['uri'],playlist_id),axis=1)\n",
    "    except:\n",
    "        print('no luck adding these new tracks to database')\n",
    "        \n",
    "#1.) ---- scrape top 100\n",
    "cols = scrape_top_100()\n",
    "\n",
    "#2.) ---- prep df into query params\n",
    "track_n_artist = df_prep(cols)\n",
    "\n",
    "#3.) ---- call_api // store uri's in df\n",
    "df2 = uri_matches(api(track_n_artist))\n",
    "\n",
    "#4.) ---- make playlist // add tracks\n",
    "if len(check_redundancies()) != 0:\n",
    "    add_tracks_to_spotify(create_playlist())\n",
    "else:\n",
    "    print('Nothing new to add')\n",
    "    \n",
    "#5.) ---- output missing entries / counts\n",
    "measure(df,df2)[1]\n",
    "\n"
   ]
  },
  {
   "cell_type": "code",
   "execution_count": 1,
   "id": "05e79b2f",
   "metadata": {},
   "outputs": [
    {
     "ename": "NameError",
     "evalue": "name 'check_redundancies' is not defined",
     "output_type": "error",
     "traceback": [
      "\u001b[0;31m---------------------------------------------------------------------------\u001b[0m",
      "\u001b[0;31mNameError\u001b[0m                                 Traceback (most recent call last)",
      "\u001b[0;32m<ipython-input-1-662e4c9b4d04>\u001b[0m in \u001b[0;36m<module>\u001b[0;34m\u001b[0m\n\u001b[0;32m----> 1\u001b[0;31m \u001b[0mcheck_redundancies\u001b[0m\u001b[0;34m(\u001b[0m\u001b[0;34m)\u001b[0m\u001b[0;34m\u001b[0m\u001b[0;34m\u001b[0m\u001b[0m\n\u001b[0m",
      "\u001b[0;31mNameError\u001b[0m: name 'check_redundancies' is not defined"
     ]
    }
   ],
   "source": [
    "check_redundancies()\n"
   ]
  },
  {
   "cell_type": "code",
   "execution_count": null,
   "id": "cd773d59",
   "metadata": {},
   "outputs": [],
   "source": []
  },
  {
   "cell_type": "code",
   "execution_count": null,
   "id": "1e4b81a1",
   "metadata": {},
   "outputs": [],
   "source": []
  },
  {
   "cell_type": "code",
   "execution_count": null,
   "id": "9c2e3c7e",
   "metadata": {},
   "outputs": [],
   "source": []
  },
  {
   "cell_type": "code",
   "execution_count": null,
   "id": "2407efc7",
   "metadata": {},
   "outputs": [],
   "source": [
    "\n"
   ]
  },
  {
   "cell_type": "code",
   "execution_count": null,
   "id": "19ea8931",
   "metadata": {},
   "outputs": [],
   "source": []
  },
  {
   "cell_type": "code",
   "execution_count": null,
   "id": "dc3b6515",
   "metadata": {},
   "outputs": [],
   "source": []
  },
  {
   "cell_type": "code",
   "execution_count": null,
   "id": "63a3c599",
   "metadata": {},
   "outputs": [],
   "source": [
    "r.json()['id']"
   ]
  },
  {
   "cell_type": "code",
   "execution_count": null,
   "id": "6f404e45",
   "metadata": {},
   "outputs": [],
   "source": []
  },
  {
   "cell_type": "code",
   "execution_count": null,
   "id": "efa3cdde",
   "metadata": {},
   "outputs": [],
   "source": []
  },
  {
   "cell_type": "code",
   "execution_count": null,
   "id": "fd624acc",
   "metadata": {},
   "outputs": [],
   "source": [
    "  \n",
    "#     def InsertPlaylist(self,name):\n",
    "#         db = self.conn.cursor()\n",
    "#         date = dt.datetime.today().strftime('%m-%d-%Y')\n",
    "#         db.execute(\"INSERT INTO playlists (name,date) VALUES (?,?)\",(name,date))\n",
    "#         self.conn.commit()\n",
    "    \n",
    "#     def InsertTrack(self,artist,song,uri,playlist_id):\n",
    "#         db = self.conn.cursor()\n",
    "#         db.execute(\"INSERT INTO tracks (artist,song,uri,playlist_id) VALUES (?,?,?,?)\",(artist,song,uri,playlist_id))\n",
    "#         self.conn.commit()\n",
    "\n",
    "#     def GetSecrets(self):\n",
    "#         db = self.conn.cursor()\n",
    "#         db.execute(\"SELECT CLIENT_ID,CLIENT_SECRET,USER_ID FROM secrets\")\n",
    "#         return db.fetchone()\n",
    "    \n",
    "#     def GetTokens(self):\n",
    "#         db = self.conn.cursor()\n",
    "#         db.execute(\"SELECT refresh_token, access_token FROM tokens\")\n",
    "#         return db.fetchone()\n",
    "    \n",
    "#     def UpdateToken(self,newToken):\n",
    "#         db = self.conn.cursor()\n",
    "#         #SQL UPDATE tokens.db SET VALUE of ACCESS_TOKEN = newToken\n",
    "#         db.execute(\"UPDATE tokens SET access_token = ?\", (newToken,))\n",
    "#         conn.commit()"
   ]
  },
  {
   "cell_type": "code",
   "execution_count": null,
   "id": "c0749f72",
   "metadata": {},
   "outputs": [],
   "source": []
  },
  {
   "cell_type": "code",
   "execution_count": null,
   "id": "4964339a",
   "metadata": {},
   "outputs": [],
   "source": []
  },
  {
   "cell_type": "code",
   "execution_count": null,
   "id": "642898e7",
   "metadata": {},
   "outputs": [],
   "source": []
  },
  {
   "cell_type": "code",
   "execution_count": null,
   "id": "81d761b8",
   "metadata": {},
   "outputs": [],
   "source": [
    "missing.head()"
   ]
  },
  {
   "cell_type": "code",
   "execution_count": null,
   "id": "dc333d5b",
   "metadata": {},
   "outputs": [],
   "source": [
    "r = requests.get('https://api.spotify.com/v1/me',headers=headers)"
   ]
  },
  {
   "cell_type": "code",
   "execution_count": null,
   "id": "d103d5f6",
   "metadata": {},
   "outputs": [],
   "source": [
    "\n",
    "r.json()"
   ]
  },
  {
   "cell_type": "code",
   "execution_count": null,
   "id": "f2ec7a03",
   "metadata": {},
   "outputs": [],
   "source": []
  },
  {
   "cell_type": "code",
   "execution_count": null,
   "id": "b7326bc2",
   "metadata": {},
   "outputs": [],
   "source": []
  },
  {
   "cell_type": "code",
   "execution_count": null,
   "id": "eed6a5b0",
   "metadata": {},
   "outputs": [],
   "source": []
  },
  {
   "cell_type": "code",
   "execution_count": null,
   "id": "fb32f42d",
   "metadata": {},
   "outputs": [],
   "source": []
  },
  {
   "cell_type": "code",
   "execution_count": null,
   "id": "3e1bb228",
   "metadata": {},
   "outputs": [],
   "source": []
  },
  {
   "cell_type": "code",
   "execution_count": null,
   "id": "484d9a40",
   "metadata": {},
   "outputs": [],
   "source": []
  },
  {
   "cell_type": "code",
   "execution_count": null,
   "id": "7587b87f",
   "metadata": {},
   "outputs": [],
   "source": []
  },
  {
   "cell_type": "code",
   "execution_count": null,
   "id": "c54f047a",
   "metadata": {},
   "outputs": [],
   "source": []
  },
  {
   "cell_type": "code",
   "execution_count": null,
   "id": "24e0c6bb",
   "metadata": {},
   "outputs": [],
   "source": []
  },
  {
   "cell_type": "code",
   "execution_count": null,
   "id": "52520ef6",
   "metadata": {},
   "outputs": [],
   "source": [
    "\n",
    "# correct = []\n",
    "\n",
    "# for i,x in enumerate(df['Title']):\n",
    "#     queryParams = '?query={}&type=track&market=US&offset=0&limit=50'.format(urllib.parse.quote(x))\n",
    "#     r = requests.get('https://api.spotify.com/v1/search' + queryParams, headers=headers)\n",
    "#     res = r.json()\n",
    "#     correct_name = []\n",
    "#     try:\n",
    "#         for y in res['tracks']['items']:\n",
    "\n",
    "#             if x == y['name']:\n",
    "#                 for z in y['artists']:\n",
    "#                     if z['name'].lower()[:5] in df['Artist'].iloc[i].lower():\n",
    "#                         correct.append((i,z['name'],y['name']))\n",
    "#     except:\n",
    "#         continue\n",
    "                    \n",
    "                \n",
    "\n",
    "# for i,x in enumerate(track_artist_or_single):\n",
    "#     if x[2] == 1:\n",
    "#         queryParams = '?q={}&type=album&market=US&limit=1'.format(urllib.parse.quote(x[0]))\n",
    "#         r = requests.get('https://api.spotify.com/v1/search' + queryParams, headers=headers)\n",
    "#         res = r.json()\n",
    "#         correct.append((i,res['albums']['items'][0]['id'],res['albums']['items'][0]['name']))\n",
    "#     else:\n",
    "#         queryParams = '?q={}&type=track&market=US&limit=5'.format(urllib.parse.quote(x[0]))\n",
    "#         r = requests.get('https://api.spotify.com/v1/search' + queryParams, headers=headers)\n",
    "#         res = r.json()\n",
    "    \n",
    "#         top5results_bytrack = res['tracks']['items']\n",
    "#         for track in top5results_bytrack:\n",
    "#             print(track['artists'][0]['name'])\n",
    "# #             if track['artists'][0]['name'].lower()[:5] == x[1].lower()[:5]:\n",
    "# #                 correct.append((i,track['id'],track['name']))\n",
    "#         break\n",
    "    \n",
    "#     print(top5results_bytrack[0]['name'])\n",
    "    \n",
    "#     artistList = df['Artist'].str.lower().tolist()\n",
    "\n",
    "\n",
    "#     correct = [track['id'] for track in top5results_bytrack if track['artists'][0]['name'].lower() in artistList]\n",
    "#     correct_songs.append(correct)\n"
   ]
  },
  {
   "cell_type": "code",
   "execution_count": null,
   "id": "4cef2487",
   "metadata": {},
   "outputs": [],
   "source": []
  },
  {
   "cell_type": "code",
   "execution_count": null,
   "id": "755461ce",
   "metadata": {},
   "outputs": [],
   "source": []
  },
  {
   "cell_type": "code",
   "execution_count": null,
   "id": "75b42ef7",
   "metadata": {},
   "outputs": [],
   "source": []
  },
  {
   "cell_type": "code",
   "execution_count": null,
   "id": "27c29638",
   "metadata": {},
   "outputs": [],
   "source": [
    "\n"
   ]
  },
  {
   "cell_type": "code",
   "execution_count": null,
   "id": "137c7a38",
   "metadata": {},
   "outputs": [],
   "source": []
  },
  {
   "cell_type": "code",
   "execution_count": null,
   "id": "24908567",
   "metadata": {},
   "outputs": [],
   "source": []
  },
  {
   "cell_type": "code",
   "execution_count": null,
   "id": "1f56964f",
   "metadata": {},
   "outputs": [],
   "source": []
  },
  {
   "cell_type": "code",
   "execution_count": null,
   "id": "f806a97d",
   "metadata": {},
   "outputs": [],
   "source": []
  },
  {
   "cell_type": "code",
   "execution_count": null,
   "id": "3fd1ca3f",
   "metadata": {},
   "outputs": [],
   "source": []
  },
  {
   "cell_type": "code",
   "execution_count": null,
   "id": "c0352207",
   "metadata": {},
   "outputs": [],
   "source": []
  },
  {
   "cell_type": "code",
   "execution_count": null,
   "id": "44820b5f",
   "metadata": {},
   "outputs": [],
   "source": []
  },
  {
   "cell_type": "code",
   "execution_count": null,
   "id": "ed6cd10a",
   "metadata": {},
   "outputs": [],
   "source": []
  },
  {
   "cell_type": "code",
   "execution_count": null,
   "id": "0a66237b",
   "metadata": {},
   "outputs": [],
   "source": []
  },
  {
   "cell_type": "code",
   "execution_count": null,
   "id": "0786d68f",
   "metadata": {},
   "outputs": [],
   "source": []
  },
  {
   "cell_type": "code",
   "execution_count": null,
   "id": "cb4559b0",
   "metadata": {},
   "outputs": [],
   "source": []
  },
  {
   "cell_type": "code",
   "execution_count": null,
   "id": "7b2bd7f1",
   "metadata": {},
   "outputs": [],
   "source": []
  },
  {
   "cell_type": "code",
   "execution_count": null,
   "id": "7999aa20",
   "metadata": {},
   "outputs": [],
   "source": []
  },
  {
   "cell_type": "code",
   "execution_count": null,
   "id": "30fb84c6",
   "metadata": {},
   "outputs": [],
   "source": [
    "\n"
   ]
  },
  {
   "cell_type": "code",
   "execution_count": null,
   "id": "c27992e6",
   "metadata": {},
   "outputs": [],
   "source": []
  },
  {
   "cell_type": "code",
   "execution_count": null,
   "id": "86635b79",
   "metadata": {},
   "outputs": [],
   "source": []
  },
  {
   "cell_type": "code",
   "execution_count": null,
   "id": "818d0b2b",
   "metadata": {},
   "outputs": [],
   "source": []
  },
  {
   "cell_type": "code",
   "execution_count": null,
   "id": "63937b3f",
   "metadata": {},
   "outputs": [],
   "source": []
  },
  {
   "cell_type": "code",
   "execution_count": null,
   "id": "23decfb7",
   "metadata": {},
   "outputs": [],
   "source": []
  },
  {
   "cell_type": "code",
   "execution_count": null,
   "id": "78475e4b",
   "metadata": {},
   "outputs": [],
   "source": []
  },
  {
   "cell_type": "code",
   "execution_count": null,
   "id": "8aba9c7e",
   "metadata": {},
   "outputs": [],
   "source": []
  },
  {
   "cell_type": "code",
   "execution_count": null,
   "id": "99a1bf03",
   "metadata": {},
   "outputs": [],
   "source": []
  },
  {
   "cell_type": "code",
   "execution_count": null,
   "id": "2387e8f7",
   "metadata": {},
   "outputs": [],
   "source": []
  },
  {
   "cell_type": "code",
   "execution_count": null,
   "id": "c82b471d",
   "metadata": {},
   "outputs": [],
   "source": []
  },
  {
   "cell_type": "code",
   "execution_count": null,
   "id": "e62c02d0",
   "metadata": {},
   "outputs": [],
   "source": []
  },
  {
   "cell_type": "code",
   "execution_count": null,
   "id": "b70263f3",
   "metadata": {},
   "outputs": [],
   "source": []
  },
  {
   "cell_type": "code",
   "execution_count": null,
   "id": "a23d88b8",
   "metadata": {},
   "outputs": [],
   "source": []
  },
  {
   "cell_type": "code",
   "execution_count": null,
   "id": "a7db0822",
   "metadata": {},
   "outputs": [],
   "source": []
  },
  {
   "cell_type": "code",
   "execution_count": null,
   "id": "285d273c",
   "metadata": {},
   "outputs": [],
   "source": []
  },
  {
   "cell_type": "code",
   "execution_count": null,
   "id": "edf474b1",
   "metadata": {},
   "outputs": [],
   "source": []
  },
  {
   "cell_type": "code",
   "execution_count": null,
   "id": "4da7c326",
   "metadata": {},
   "outputs": [],
   "source": []
  },
  {
   "cell_type": "code",
   "execution_count": null,
   "id": "c066baae",
   "metadata": {},
   "outputs": [],
   "source": []
  },
  {
   "cell_type": "code",
   "execution_count": null,
   "id": "f7b2b892",
   "metadata": {},
   "outputs": [],
   "source": []
  },
  {
   "cell_type": "code",
   "execution_count": null,
   "id": "bb765e54",
   "metadata": {},
   "outputs": [],
   "source": []
  },
  {
   "cell_type": "code",
   "execution_count": null,
   "id": "5bedabb6",
   "metadata": {},
   "outputs": [],
   "source": []
  }
 ],
 "metadata": {
  "kernelspec": {
   "display_name": "Python 3",
   "language": "python",
   "name": "python3"
  },
  "language_info": {
   "codemirror_mode": {
    "name": "ipython",
    "version": 3
   },
   "file_extension": ".py",
   "mimetype": "text/x-python",
   "name": "python",
   "nbconvert_exporter": "python",
   "pygments_lexer": "ipython3",
   "version": "3.9.2"
  }
 },
 "nbformat": 4,
 "nbformat_minor": 5
}
